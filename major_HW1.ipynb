{
  "cells": [
    {
      "cell_type": "markdown",
      "metadata": {
        "id": "AaWOEIUIMac-"
      },
      "source": [
        "#HW1 - Data Exploration and Preparation"
      ]
    },
    {
      "cell_type": "code",
      "execution_count": null,
      "metadata": {
        "id": "4fHDGDO95YGC"
      },
      "outputs": [],
      "source": [
        "import numpy as np\n",
        "import pandas as pd\n",
        "import matplotlib.pyplot as plt\n",
        "import seaborn as sns\n",
        "from sklearn.model_selection import train_test_split"
      ]
    },
    {
      "cell_type": "markdown",
      "metadata": {
        "id": "mHWmCLRyfHWs"
      },
      "source": [
        "## Part 1: Data Loadin and First Look"
      ]
    },
    {
      "cell_type": "markdown",
      "metadata": {
        "id": "tSrPNPidMY3l"
      },
      "source": [
        "## Loading the dataset"
      ]
    },
    {
      "cell_type": "code",
      "execution_count": null,
      "metadata": {
        "colab": {
          "base_uri": "https://localhost:8080/",
          "height": 90
        },
        "id": "DfYF1LgMLcNe",
        "outputId": "d43e8104-1d1b-4549-ac58-4ded4c411f37"
      },
      "outputs": [],
      "source": [
        "!rm *.csv\n",
        "\n",
        "from google.colab import files\n",
        "print(\"Please load the raw csv data\")\n",
        "uploadedData = files.upload()\n",
        "filename = list(uploadedData)[0]"
      ]
    },
    {
      "cell_type": "code",
      "execution_count": null,
      "metadata": {
        "id": "sVCPiqj_L8ch"
      },
      "outputs": [],
      "source": [
        "dataset = pd.read_csv(filename)"
      ]
    },
    {
      "cell_type": "code",
      "execution_count": null,
      "metadata": {
        "colab": {
          "base_uri": "https://localhost:8080/"
        },
        "id": "bVmBUgUWMH0I",
        "outputId": "a878d9a4-a5d9-46ee-df08-e7d510dcfd74"
      },
      "outputs": [],
      "source": [
        "# Q1 getting the datas #rows and #cols\n",
        "dataset.shape"
      ]
    },
    {
      "cell_type": "code",
      "execution_count": null,
      "metadata": {
        "colab": {
          "base_uri": "https://localhost:8080/"
        },
        "id": "hJDu0Qj9fRSB",
        "outputId": "8f0f1f36-0265-47ee-9524-fbffce793e72"
      },
      "outputs": [],
      "source": [
        "# Q2 inspecting conversations_per_day field\n",
        "dataset.conversations_per_day.value_counts()"
      ]
    },
    {
      "cell_type": "code",
      "execution_count": null,
      "metadata": {
        "colab": {
          "base_uri": "https://localhost:8080/",
          "height": 2094
        },
        "id": "tC5ucHLwnaAN",
        "outputId": "a6869b44-125b-4ad1-e9b4-7824ec782673"
      },
      "outputs": [],
      "source": [
        "# Q3 inspecting the features of the data\n",
        "print(dataset.columns)\n",
        "print(dataset.PCR_10.value_counts())\n",
        "dataset.head()"
      ]
    },
    {
      "cell_type": "code",
      "execution_count": null,
      "metadata": {
        "id": "De-VqQ_717Rq"
      },
      "outputs": [],
      "source": [
        "# Q4 partitioning the data to train and test sets\n",
        "train_set, test_set = train_test_split(dataset, test_size=0.2, random_state=8)"
      ]
    },
    {
      "cell_type": "markdown",
      "metadata": {
        "id": "AZ6H_MfJgTk6"
      },
      "source": [
        "## Part 2: Missing Values"
      ]
    },
    {
      "cell_type": "code",
      "execution_count": null,
      "metadata": {
        "colab": {
          "base_uri": "https://localhost:8080/"
        },
        "id": "by7LEXvB7gTJ",
        "outputId": "9df7749b-3ca1-466a-8029-b26ac3b40108"
      },
      "outputs": [],
      "source": [
        "# Q5 looking for null values in the data\n",
        "print(\"training set null values: \\n\", pd.isnull(train_set).sum(),\"\\n\")\n",
        "print(\"test set null values: \\n\",pd.isnull(test_set).sum(), \"\\n\")"
      ]
    },
    {
      "cell_type": "code",
      "execution_count": null,
      "metadata": {
        "colab": {
          "base_uri": "https://localhost:8080/",
          "height": 489
        },
        "id": "YR3Xiy0tH0oV",
        "outputId": "07a75622-2bde-45f0-9812-68fba07c157b"
      },
      "outputs": [],
      "source": [
        "# Q6 checking the distribution of income values\n",
        "sns.histplot(train_set.household_income, kde=True)\n",
        "plt.grid()\n",
        "plt.title(r'Histogram of household income')"
      ]
    },
    {
      "cell_type": "code",
      "execution_count": null,
      "metadata": {
        "colab": {
          "base_uri": "https://localhost:8080/"
        },
        "id": "-gI1WwZYbCf6",
        "outputId": "57cf2032-d191-49ca-c132-e80a604f4ba1"
      },
      "outputs": [],
      "source": [
        "# Q7 inspecting household_income statistics for replacing null values\n",
        "print(\"mean is: \", train_set.household_income.mean())\n",
        "print(\"median is: \", train_set.household_income.median())"
      ]
    },
    {
      "cell_type": "code",
      "execution_count": null,
      "metadata": {
        "colab": {
          "base_uri": "https://localhost:8080/"
        },
        "id": "9BG1b_j2eQjg",
        "outputId": "d32ae9a5-bba6-4109-9318-bde0755138c6"
      },
      "outputs": [],
      "source": [
        "# Q7 - Task A - filling null values with median values\n",
        "filled_train_set = train_set.fillna({\"household_income\":train_set.household_income.median()})\n",
        "filled_test_set = test_set.fillna({\"household_income\":test_set.household_income.median()})\n",
        "print(\"mean is: \", filled_train_set.household_income.mean())\n",
        "print(\"median is: \", filled_train_set.household_income.median())"
      ]
    },
    {
      "cell_type": "markdown",
      "metadata": {
        "id": "U2LihXIH5Z0G"
      },
      "source": [
        "## Part 3: Warming up with k-Nearest Neighbors"
      ]
    },
    {
      "cell_type": "code",
      "execution_count": null,
      "metadata": {
        "colab": {
          "base_uri": "https://localhost:8080/",
          "height": 850
        },
        "id": "TB22-kOr5d97",
        "outputId": "aadf4707-73b6-4875-9ced-f5c6f0c6fdc6"
      },
      "outputs": [],
      "source": [
        "# Task B\n",
        "g=sns.pairplot(train_set, hue=\"spread\", palette=\"tab10\" , vars=[\"PCR_04\", \"PCR_07\", \"PCR_09\"], plot_kws={\"s\":12})\n",
        "g.fig.suptitle(\"Pairplot of PCR_04, PCR_07 and PCR_09 according to spread\", y=1.04)\n",
        "for ax in np.ravel(g.axes):\n",
        "  ax.grid(alpha=0.5)\n",
        "g.fig.set_size_inches(12,8)"
      ]
    },
    {
      "cell_type": "code",
      "execution_count": null,
      "metadata": {
        "colab": {
          "base_uri": "https://localhost:8080/",
          "height": 823
        },
        "id": "dJ5dzPP_BCT5",
        "outputId": "e6ed02ca-775b-45d8-fa52-eaa651f1bcf8"
      },
      "outputs": [],
      "source": [
        "# Q8\n",
        "g=sns.pairplot(train_set, hue=\"spread\", palette=\"tab10\" , vars=[\"PCR_04\", \"PCR_09\"], plot_kws={\"s\":12})\n",
        "g.fig.suptitle(\"Pairplot of PCR_04 and PCR_09 according to spread\", y=1.04)\n",
        "for ax in np.ravel(g.axes):\n",
        "  ax.grid(alpha=0.5)\n",
        "g.fig.set_size_inches(12,8)"
      ]
    },
    {
      "cell_type": "code",
      "execution_count": null,
      "metadata": {
        "id": "1h8lbwbWMhS7"
      },
      "outputs": [],
      "source": [
        "def visualize_clf(clf, X, Y, title,\n",
        "                  xlabel, ylabel,\n",
        "                  marker_size=50,\n",
        "                  grid_length=300,\n",
        "                  linewidths=None):\n",
        "    import matplotlib.pyplot as plt\n",
        "    import pandas as pd\n",
        "    from matplotlib.colors import ListedColormap\n",
        "\n",
        "    if isinstance(X, pd.DataFrame):\n",
        "        X = X.to_numpy()\n",
        "\n",
        "    # For internal use here, make sure labels are 0 and 1\n",
        "    Y = np.ravel(Y).astype(int)\n",
        "    labels = set(Y)\n",
        "    assert len(labels) == 2, \"Can only visualize two unique labels\"\n",
        "\n",
        "    if labels == set([-1,1]):\n",
        "      Y = (Y + 1) // 2\n",
        "      labels = set(Y)\n",
        "\n",
        "    assert labels == set([0,1]), \"Could not handle given labels\"\n",
        "\n",
        "    plt.figure(figsize=(8, 8))\n",
        "\n",
        "    # Parameters\n",
        "    n_classes = 2\n",
        "    markers = [\"D\", \"o\"]\n",
        "    palette = sns.color_palette(\"hls\", 2)\n",
        "    custom_cmap = ListedColormap(palette.as_hex())\n",
        "\n",
        "    x_delta = np.abs(X[:, 0].max() - X[:, 0].min()) * 0.1\n",
        "    y_delta = np.abs(X[:, 1].max() - X[:, 1].min()) * 0.1\n",
        "    x_min, x_max = X[:, 0].min() - x_delta, X[:, 0].max() + x_delta\n",
        "    y_min, y_max = X[:, 1].min() - y_delta, X[:, 1].max() + y_delta\n",
        "    xx, yy = np.meshgrid(np.linspace(x_min, x_max, grid_length),\n",
        "                         np.linspace(y_min, y_max, grid_length))\n",
        "    plt.tight_layout(h_pad=0.5, w_pad=0.5, pad=2.5)\n",
        "\n",
        "    Z = clf.predict(np.c_[xx.ravel(), yy.ravel()])\n",
        "    Z = Z.reshape(xx.shape)\n",
        "\n",
        "    cs = plt.contourf(xx, yy, Z, cmap=custom_cmap, alpha=0.35)\n",
        "\n",
        "    plt.xlabel(xlabel)\n",
        "    plt.ylabel(ylabel)\n",
        "    plt.grid(alpha=0.75)\n",
        "\n",
        "    # Plot the training points\n",
        "    for i, color, marker in zip(labels, palette, markers):\n",
        "        idx = np.where(Y == i)\n",
        "        plt.scatter(X[idx, 0], X[idx, 1], color=color,\n",
        "                    marker=marker,\n",
        "                    edgecolor='white', s=marker_size,\n",
        "                    linewidths=linewidths)\n",
        "\n",
        "    plt.title(title, fontsize=20)\n",
        "    plt.axis(\"tight\")\n",
        "    plt.show()\n"
      ]
    },
    {
      "cell_type": "code",
      "execution_count": null,
      "metadata": {
        "id": "IVwQuGqpCMXG"
      },
      "outputs": [],
      "source": [
        "# Task C: k-NN implementation\n",
        "from sklearn.base import BaseEstimator, ClassifierMixin\n",
        "import scipy as sp\n",
        "\n",
        "class kNN(BaseEstimator, ClassifierMixin):\n",
        "  def __init__(self, n_neighbors: int = 3):\n",
        "    self.n_neighbors = n_neighbors\n",
        "\n",
        "  def fit(self, X, y):\n",
        "    self.X_train = X\n",
        "    self.Y_train = y\n",
        "    return self\n",
        "\n",
        "  def predict(self, X):\n",
        "    distances = sp.spatial.distance.cdist(X, self.X_train)\n",
        "    partition_ind = np.argpartition(distances, self.n_neighbors)\n",
        "    neighbor_ind = np.delete(partition_ind, np.s_[self.n_neighbors:], axis=1)\n",
        "    predictions = np.sum(np.array(self.Y_train)[neighbor_ind], axis=1)\n",
        "    predictions[predictions < 0] = -1\n",
        "    predictions[predictions >= 0] = 1\n",
        "    return predictions"
      ]
    },
    {
      "cell_type": "code",
      "execution_count": null,
      "metadata": {
        "colab": {
          "base_uri": "https://localhost:8080/",
          "height": 761
        },
        "id": "6ks0V6ULMkH7",
        "outputId": "64755881-4f43-4cd9-cafc-25e469e79f49"
      },
      "outputs": [],
      "source": [
        "# Task D\n",
        "tmp = train_set[[\"PCR_04\", \"PCR_09\", \"spread\"]]\n",
        "clf = kNN(1)\n",
        "X = tmp[[\"PCR_04\", \"PCR_09\"]].values\n",
        "y = tmp.spread.values\n",
        "clf.fit(X,y)\n",
        "visualize_clf(clf, X, y, \"1-NN Model - Decision regions\", \"PCR_04\", \"PCR_09\")\n",
        "\n",
        "tmp_test = test_set[[\"PCR_04\", \"PCR_09\", \"spread\"]]\n",
        "X_test = tmp_test[[\"PCR_04\", \"PCR_09\"]].values\n",
        "y_test = tmp_test.spread.values\n",
        "\n",
        "print(f\"Trainig accurecy: {clf.score(X, y): .3f}\", )\n",
        "print(f\"Test accurecy: {clf.score(X_test, y_test): .3f}\")"
      ]
    },
    {
      "cell_type": "code",
      "execution_count": null,
      "metadata": {
        "colab": {
          "base_uri": "https://localhost:8080/",
          "height": 761
        },
        "id": "AX59L2LQQnap",
        "outputId": "04423cc0-a8d8-48a2-ef43-c27c84d6deb4"
      },
      "outputs": [],
      "source": [
        "# Q11 - Nornalization using min-max scailing\n",
        "from sklearn.preprocessing import MinMaxScaler\n",
        "# y (spread) is alredy normelized to min max so no need to norm again,\n",
        "y_normed = tmp.spread.values\n",
        "scaler = MinMaxScaler((-1, 1))\n",
        "X = tmp[[\"PCR_04\", \"PCR_09\"]].values\n",
        "X_normed = scaler.fit_transform(X)\n",
        "\n",
        "clf.fit(X_normed,y_normed)\n",
        "visualize_clf(clf, X_normed, y_normed, \"1-NN Model with normelaized data - Decision regions\", \"PCR_04\", \"PCR_09\")\n",
        "\n",
        "tmp_test = test_set[[\"PCR_04\", \"PCR_09\", \"spread\"]]\n",
        "y_test_normed = tmp_test.spread.values\n",
        "\n",
        "X_test = tmp_test[[\"PCR_04\", \"PCR_09\"]].values\n",
        "X_test_normed = scaler.fit_transform(X_test)\n",
        "\n",
        "print(f\"Trainig accurecy: {clf.score(X_normed,y_normed)}\")\n",
        "print(f\"Test accurecy: {clf.score(X_test_normed, y_test_normed)}\")"
      ]
    },
    {
      "cell_type": "code",
      "execution_count": null,
      "metadata": {
        "colab": {
          "base_uri": "https://localhost:8080/",
          "height": 761
        },
        "id": "qmKLjdLaUIDz",
        "outputId": "4e956788-8534-4e92-a96f-08a0d14a0d05"
      },
      "outputs": [],
      "source": [
        "# Q12\n",
        "clf = kNN(5)\n",
        "clf.fit(X_normed,y_normed)\n",
        "visualize_clf(clf, X_normed, y_normed, \"5-NN Model with normelaized data - Decision regions\", \"PCR_04\", \"PCR_09\")\n",
        "\n",
        "\n",
        "y_test_normed = tmp_test.spread.values\n",
        "\n",
        "X_test_normed = scaler.fit_transform(X_test)\n",
        "\n",
        "print(f\"Trainig accurecy: {clf.score(X_normed,y_normed)}\")\n",
        "print(f\"Test accurecy: {clf.score(X_test_normed, y_test_normed)}\")"
      ]
    },
    {
      "cell_type": "markdown",
      "metadata": {
        "id": "wbbdcV3hU_U2"
      },
      "source": [
        "## Part 4: Data exploration"
      ]
    },
    {
      "cell_type": "code",
      "execution_count": null,
      "metadata": {
        "colab": {
          "base_uri": "https://localhost:8080/",
          "height": 342
        },
        "id": "KecilmjrVL9r",
        "outputId": "23ff360f-bdbc-4e83-e771-6295d69fb79d"
      },
      "outputs": [],
      "source": [
        "# Task E t=\n",
        "train_set['SpecialProperty']= train_set['blood_type'].isin([\"O+\", \"B+\"])\n",
        "train_set.head()"
      ]
    },
    {
      "cell_type": "code",
      "execution_count": null,
      "metadata": {
        "colab": {
          "base_uri": "https://localhost:8080/",
          "height": 342
        },
        "id": "bFXcjs6OwpxX",
        "outputId": "2bb1b783-6605-49c1-ec5f-ff20b1e3678d"
      },
      "outputs": [],
      "source": [
        "train_set.drop(\"blood_type\", inplace=True, axis=1)\n",
        "train_set.head()"
      ]
    },
    {
      "cell_type": "code",
      "execution_count": null,
      "metadata": {
        "colab": {
          "base_uri": "https://localhost:8080/"
        },
        "id": "H3Rtpo9zxpfY",
        "outputId": "31bc3d9a-5fe1-4c9d-a25e-3ddf32c0406f"
      },
      "outputs": [],
      "source": [
        "train_set.columns"
      ]
    },
    {
      "cell_type": "code",
      "execution_count": null,
      "metadata": {
        "colab": {
          "base_uri": "https://localhost:8080/",
          "height": 1000
        },
        "id": "n8mMog_EtM3n",
        "outputId": "5166359a-5910-4494-f215-80187f50ef5b"
      },
      "outputs": [],
      "source": [
        "NON_NUMERIC_VALUE_COLS = [\"sex\", \"current_location\", \"pcr_date\", \"SpecialProperty\"]\n",
        "COL_NAME = [col for col in train_set.columns if col not in [\"spread\", \"risk\"] and col not in NON_NUMERIC_VALUE_COLS]\n",
        "COLS, ROWS = (2, len(COL_NAME))\n",
        "plt.figure(figsize=(5 * COLS, 4 * ROWS))\n",
        "\n",
        "for row in range(ROWS):\n",
        "  column = COL_NAME[row]\n",
        "\n",
        "  for j, cls in enumerate([\"risk\", \"spread\"]):\n",
        "    plt.subplot(ROWS,COLS, row * COLS + 1 + j)\n",
        "\n",
        "    isContinuous = \"float\" in train_set[column].dtype.name\n",
        "    sns.histplot(data=train_set, x=column, hue=cls, line_kws={\"linewidth\": 3}, kde=isContinuous, multiple=\"layer\" if isContinuous else \"dodge\")\n",
        "    plt.grid(alpha=0.5)\n",
        "    plt.title(f\"Patients {cls} by {column}\")\n",
        "\n",
        "  plt.tight_layout()"
      ]
    },
    {
      "cell_type": "markdown",
      "metadata": {
        "id": "2lA8luoy-AYl"
      },
      "source": [
        "Q16"
      ]
    },
    {
      "cell_type": "code",
      "execution_count": null,
      "metadata": {
        "colab": {
          "base_uri": "https://localhost:8080/",
          "height": 583
        },
        "id": "b3a5v-kC7BF7",
        "outputId": "13da23df-cca5-47ef-bb52-4adc096b9313"
      },
      "outputs": [],
      "source": [
        "special_prop_data =  train_set[train_set.SpecialProperty == True]\n",
        "special_prop_data"
      ]
    },
    {
      "cell_type": "code",
      "execution_count": null,
      "metadata": {
        "colab": {
          "base_uri": "https://localhost:8080/",
          "height": 1000
        },
        "id": "hMXuIfkq8EXq",
        "outputId": "8c701cd1-6b3e-4560-ae8e-f934e7d91ed5"
      },
      "outputs": [],
      "source": [
        "sns.pairplot(special_prop_data[[\"PCR_01\"]+[\"PCR_03\"]+ [\"PCR_05\"]+[\"PCR_10\"]+[\"risk\"]], plot_kws={\"s\": 3}, hue=\"risk\", palette=\"tab10\")"
      ]
    },
    {
      "cell_type": "code",
      "execution_count": null,
      "metadata": {
        "colab": {
          "base_uri": "https://localhost:8080/",
          "height": 617
        },
        "id": "uB2QZVOD7jmv",
        "outputId": "65f42906-7b58-4b90-c760-638fe9bee119"
      },
      "outputs": [],
      "source": [
        "non_special_prop_data =  train_set[train_set.SpecialProperty == False]\n",
        "non_special_prop_data"
      ]
    },
    {
      "cell_type": "code",
      "execution_count": null,
      "metadata": {
        "colab": {
          "base_uri": "https://localhost:8080/",
          "height": 1000
        },
        "id": "6hoSDWAS8vHs",
        "outputId": "7b805244-1143-431a-e33f-f93be3e8e17c"
      },
      "outputs": [],
      "source": [
        "sns.pairplot(non_special_prop_data[[\"PCR_01\"]+[\"PCR_03\"]+ [\"PCR_05\"]+[\"PCR_10\"]+[\"risk\"]], plot_kws={\"s\": 3}, hue=\"risk\", palette=\"tab10\")"
      ]
    },
    {
      "cell_type": "code",
      "execution_count": null,
      "metadata": {
        "colab": {
          "base_uri": "https://localhost:8080/",
          "height": 609
        },
        "id": "VQqejFz79jOg",
        "outputId": "1e774135-3c94-47b3-ae38-4daa1d23640d"
      },
      "outputs": [],
      "source": [
        "# Q17\n",
        "g = sns.jointplot(data=special_prop_data, x=\"PCR_03\", y=\"PCR_10\", hue=\"risk\", palette=\"tab10\")\n",
        "g.fig.suptitle(\"PCR_03 vs. PCR_10 - Special property boold type\")\n",
        "g.fig.subplots_adjust(top=0.95)\n",
        "g.ax_joint.grid(alpha=0.5)"
      ]
    },
    {
      "cell_type": "code",
      "execution_count": null,
      "metadata": {
        "colab": {
          "base_uri": "https://localhost:8080/",
          "height": 609
        },
        "id": "VIvZk-qZ_kWO",
        "outputId": "81c6840c-f4c1-42cf-aaea-475ea19848ac"
      },
      "outputs": [],
      "source": [
        "g = sns.jointplot(data=non_special_prop_data, x=\"PCR_03\", y=\"PCR_10\", hue=\"risk\", palette=\"tab10\")\n",
        "g.fig.suptitle(\"PCR_03 vs. PCR_10 - Non special property boold type\")\n",
        "g.fig.subplots_adjust(top=0.95)\n",
        "g.ax_joint.grid(alpha=0.5)"
      ]
    },
    {
      "cell_type": "code",
      "execution_count": null,
      "metadata": {
        "colab": {
          "base_uri": "https://localhost:8080/",
          "height": 609
        },
        "id": "5hQaBpJG_sgs",
        "outputId": "1ee05b82-7811-4894-e967-f8c5731692e9"
      },
      "outputs": [],
      "source": [
        "g = sns.jointplot(data=train_set, x=\"PCR_03\", y=\"PCR_10\", hue=\"risk\", palette=\"tab10\")\n",
        "g.fig.suptitle(\"PCR_03 vs. PCR_10 - All boold types\")\n",
        "g.fig.subplots_adjust(top=0.95)\n",
        "g.ax_joint.grid(alpha=0.5)"
      ]
    },
    {
      "cell_type": "code",
      "execution_count": null,
      "metadata": {
        "id": "lnD5bnPkAQZZ"
      },
      "outputs": [],
      "source": [
        "def plot3d(df, colX, colY, colZ, title, hue=None, s=1):\n",
        "  %matplotlib inline\n",
        "\n",
        "  fig = plt.figure(figsize=(20, 4))\n",
        "  axes = [fig.add_subplot(1, 4, 1, projection='3d'),\n",
        "          fig.add_subplot(1, 4, 2, projection='3d'),\n",
        "          fig.add_subplot(1, 4, 3, projection='3d'),\n",
        "          fig.add_subplot(1, 4, 4, projection='3d')]\n",
        "\n",
        "  palette = sns.color_palette(\"hls\", 2)\n",
        "\n",
        "  for i,ax in enumerate(axes):\n",
        "    if hue is None:\n",
        "      ax.scatter3D(df[colX], df[colY], df[colZ], color=palette[0], s=s)\n",
        "    else:\n",
        "      idx = df[hue] == True\n",
        "      df1 = df[idx]\n",
        "      df2 = df[~idx]\n",
        "\n",
        "      ax.scatter3D(df1[colX], df1[colY], df1[colZ], color=palette[0], s=s)\n",
        "      ax.scatter3D(df2[colX], df2[colY], df2[colZ], color=palette[1], s=s)\n",
        "\n",
        "    if i == 3 or i == 1:\n",
        "      ax.set_xlabel(colX, labelpad=20)\n",
        "      ax.set_ylabel(colY, labelpad=20)\n",
        "    else:\n",
        "      ax.xaxis.set_ticklabels([])\n",
        "      ax.yaxis.set_ticklabels([])\n",
        "\n",
        "    ax.view_init(elev=5., azim=45*i+15)\n",
        "\n",
        "  axes[1].set_zlabel(\"\\n\" + colZ, labelpad=1)\n",
        "\n",
        "  plt.suptitle(title)\n",
        "  plt.subplots_adjust(wspace=0.1, top=0.99)\n",
        "  plt.show()"
      ]
    },
    {
      "cell_type": "code",
      "execution_count": null,
      "metadata": {
        "colab": {
          "base_uri": "https://localhost:8080/",
          "height": 389
        },
        "id": "uulexV3nArzU",
        "outputId": "b118395c-0d7e-4a76-b34d-e4c270e45aa9"
      },
      "outputs": [],
      "source": [
        "plot3d(train_set, \"PCR_03\", \"SpecialProperty\", \"PCR_10\", title=\"Patients risk by PCR_03, PCR_10 and Special Property blood type\", hue=\"risk\", s=5)"
      ]
    },
    {
      "cell_type": "markdown",
      "metadata": {
        "id": "_Mgm01NpMXJU"
      },
      "source": [
        "# How to download from Colab?"
      ]
    },
    {
      "cell_type": "code",
      "execution_count": null,
      "metadata": {
        "id": "pT3gmNOXjtE9"
      },
      "outputs": [],
      "source": [
        "from google.colab import files\n",
        "outputPath = \"saved_file.csv\"\n",
        "dataset.to_csv(outputPath)\n",
        "files.download(outputPath)"
      ]
    },
    {
      "cell_type": "code",
      "execution_count": null,
      "metadata": {
        "id": "fULq3pXduRov"
      },
      "outputs": [],
      "source": []
    }
  ],
  "metadata": {
    "colab": {
      "provenance": []
    },
    "kernelspec": {
      "display_name": "Python 3",
      "name": "python3"
    }
  },
  "nbformat": 4,
  "nbformat_minor": 0
}
