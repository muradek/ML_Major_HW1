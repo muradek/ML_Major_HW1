{
  "nbformat": 4,
  "nbformat_minor": 0,
  "metadata": {
    "colab": {
      "provenance": [],
      "include_colab_link": true
    },
    "kernelspec": {
      "name": "python3",
      "display_name": "Python 3"
    }
  },
  "cells": [
    {
      "cell_type": "markdown",
      "metadata": {
        "id": "view-in-github",
        "colab_type": "text"
      },
      "source": [
        "<a href=\"https://colab.research.google.com/github/muradek/ML_Major_HW1/blob/main/major_HW1.ipynb\" target=\"_parent\"><img src=\"https://colab.research.google.com/assets/colab-badge.svg\" alt=\"Open In Colab\"/></a>"
      ]
    },
    {
      "cell_type": "markdown",
      "metadata": {
        "id": "AaWOEIUIMac-"
      },
      "source": [
        "#HW1 - Data Exploration and Preparation"
      ]
    },
    {
      "cell_type": "code",
      "metadata": {
        "id": "4fHDGDO95YGC"
      },
      "source": [
        "import numpy as np\n",
        "import pandas as pd\n",
        "import matplotlib.pyplot as plt\n",
        "import seaborn as sns\n",
        "from sklearn.model_selection import train_test_split"
      ],
      "execution_count": 33,
      "outputs": []
    },
    {
      "cell_type": "markdown",
      "source": [
        "## Part 1: Data Loadin and First Look"
      ],
      "metadata": {
        "id": "mHWmCLRyfHWs"
      }
    },
    {
      "cell_type": "markdown",
      "metadata": {
        "id": "tSrPNPidMY3l"
      },
      "source": [
        "## Loading the dataset"
      ]
    },
    {
      "cell_type": "code",
      "metadata": {
        "id": "DfYF1LgMLcNe",
        "colab": {
          "base_uri": "https://localhost:8080/",
          "height": 108
        },
        "outputId": "69595eeb-5032-481a-f93b-25fc81db95a3"
      },
      "source": [
        "!rm *.csv\n",
        "\n",
        "from google.colab import files\n",
        "print(\"Please load the raw csv data\")\n",
        "uploadedData = files.upload()\n",
        "filename = list(uploadedData)[0]"
      ],
      "execution_count": 2,
      "outputs": [
        {
          "output_type": "stream",
          "name": "stdout",
          "text": [
            "rm: cannot remove '*.csv': No such file or directory\n",
            "Please load the raw csv data\n"
          ]
        },
        {
          "output_type": "display_data",
          "data": {
            "text/plain": [
              "<IPython.core.display.HTML object>"
            ],
            "text/html": [
              "\n",
              "     <input type=\"file\" id=\"files-c456a5fc-c229-4afe-a803-d8fd11e219c4\" name=\"files[]\" multiple disabled\n",
              "        style=\"border:none\" />\n",
              "     <output id=\"result-c456a5fc-c229-4afe-a803-d8fd11e219c4\">\n",
              "      Upload widget is only available when the cell has been executed in the\n",
              "      current browser session. Please rerun this cell to enable.\n",
              "      </output>\n",
              "      <script>// Copyright 2017 Google LLC\n",
              "//\n",
              "// Licensed under the Apache License, Version 2.0 (the \"License\");\n",
              "// you may not use this file except in compliance with the License.\n",
              "// You may obtain a copy of the License at\n",
              "//\n",
              "//      http://www.apache.org/licenses/LICENSE-2.0\n",
              "//\n",
              "// Unless required by applicable law or agreed to in writing, software\n",
              "// distributed under the License is distributed on an \"AS IS\" BASIS,\n",
              "// WITHOUT WARRANTIES OR CONDITIONS OF ANY KIND, either express or implied.\n",
              "// See the License for the specific language governing permissions and\n",
              "// limitations under the License.\n",
              "\n",
              "/**\n",
              " * @fileoverview Helpers for google.colab Python module.\n",
              " */\n",
              "(function(scope) {\n",
              "function span(text, styleAttributes = {}) {\n",
              "  const element = document.createElement('span');\n",
              "  element.textContent = text;\n",
              "  for (const key of Object.keys(styleAttributes)) {\n",
              "    element.style[key] = styleAttributes[key];\n",
              "  }\n",
              "  return element;\n",
              "}\n",
              "\n",
              "// Max number of bytes which will be uploaded at a time.\n",
              "const MAX_PAYLOAD_SIZE = 100 * 1024;\n",
              "\n",
              "function _uploadFiles(inputId, outputId) {\n",
              "  const steps = uploadFilesStep(inputId, outputId);\n",
              "  const outputElement = document.getElementById(outputId);\n",
              "  // Cache steps on the outputElement to make it available for the next call\n",
              "  // to uploadFilesContinue from Python.\n",
              "  outputElement.steps = steps;\n",
              "\n",
              "  return _uploadFilesContinue(outputId);\n",
              "}\n",
              "\n",
              "// This is roughly an async generator (not supported in the browser yet),\n",
              "// where there are multiple asynchronous steps and the Python side is going\n",
              "// to poll for completion of each step.\n",
              "// This uses a Promise to block the python side on completion of each step,\n",
              "// then passes the result of the previous step as the input to the next step.\n",
              "function _uploadFilesContinue(outputId) {\n",
              "  const outputElement = document.getElementById(outputId);\n",
              "  const steps = outputElement.steps;\n",
              "\n",
              "  const next = steps.next(outputElement.lastPromiseValue);\n",
              "  return Promise.resolve(next.value.promise).then((value) => {\n",
              "    // Cache the last promise value to make it available to the next\n",
              "    // step of the generator.\n",
              "    outputElement.lastPromiseValue = value;\n",
              "    return next.value.response;\n",
              "  });\n",
              "}\n",
              "\n",
              "/**\n",
              " * Generator function which is called between each async step of the upload\n",
              " * process.\n",
              " * @param {string} inputId Element ID of the input file picker element.\n",
              " * @param {string} outputId Element ID of the output display.\n",
              " * @return {!Iterable<!Object>} Iterable of next steps.\n",
              " */\n",
              "function* uploadFilesStep(inputId, outputId) {\n",
              "  const inputElement = document.getElementById(inputId);\n",
              "  inputElement.disabled = false;\n",
              "\n",
              "  const outputElement = document.getElementById(outputId);\n",
              "  outputElement.innerHTML = '';\n",
              "\n",
              "  const pickedPromise = new Promise((resolve) => {\n",
              "    inputElement.addEventListener('change', (e) => {\n",
              "      resolve(e.target.files);\n",
              "    });\n",
              "  });\n",
              "\n",
              "  const cancel = document.createElement('button');\n",
              "  inputElement.parentElement.appendChild(cancel);\n",
              "  cancel.textContent = 'Cancel upload';\n",
              "  const cancelPromise = new Promise((resolve) => {\n",
              "    cancel.onclick = () => {\n",
              "      resolve(null);\n",
              "    };\n",
              "  });\n",
              "\n",
              "  // Wait for the user to pick the files.\n",
              "  const files = yield {\n",
              "    promise: Promise.race([pickedPromise, cancelPromise]),\n",
              "    response: {\n",
              "      action: 'starting',\n",
              "    }\n",
              "  };\n",
              "\n",
              "  cancel.remove();\n",
              "\n",
              "  // Disable the input element since further picks are not allowed.\n",
              "  inputElement.disabled = true;\n",
              "\n",
              "  if (!files) {\n",
              "    return {\n",
              "      response: {\n",
              "        action: 'complete',\n",
              "      }\n",
              "    };\n",
              "  }\n",
              "\n",
              "  for (const file of files) {\n",
              "    const li = document.createElement('li');\n",
              "    li.append(span(file.name, {fontWeight: 'bold'}));\n",
              "    li.append(span(\n",
              "        `(${file.type || 'n/a'}) - ${file.size} bytes, ` +\n",
              "        `last modified: ${\n",
              "            file.lastModifiedDate ? file.lastModifiedDate.toLocaleDateString() :\n",
              "                                    'n/a'} - `));\n",
              "    const percent = span('0% done');\n",
              "    li.appendChild(percent);\n",
              "\n",
              "    outputElement.appendChild(li);\n",
              "\n",
              "    const fileDataPromise = new Promise((resolve) => {\n",
              "      const reader = new FileReader();\n",
              "      reader.onload = (e) => {\n",
              "        resolve(e.target.result);\n",
              "      };\n",
              "      reader.readAsArrayBuffer(file);\n",
              "    });\n",
              "    // Wait for the data to be ready.\n",
              "    let fileData = yield {\n",
              "      promise: fileDataPromise,\n",
              "      response: {\n",
              "        action: 'continue',\n",
              "      }\n",
              "    };\n",
              "\n",
              "    // Use a chunked sending to avoid message size limits. See b/62115660.\n",
              "    let position = 0;\n",
              "    do {\n",
              "      const length = Math.min(fileData.byteLength - position, MAX_PAYLOAD_SIZE);\n",
              "      const chunk = new Uint8Array(fileData, position, length);\n",
              "      position += length;\n",
              "\n",
              "      const base64 = btoa(String.fromCharCode.apply(null, chunk));\n",
              "      yield {\n",
              "        response: {\n",
              "          action: 'append',\n",
              "          file: file.name,\n",
              "          data: base64,\n",
              "        },\n",
              "      };\n",
              "\n",
              "      let percentDone = fileData.byteLength === 0 ?\n",
              "          100 :\n",
              "          Math.round((position / fileData.byteLength) * 100);\n",
              "      percent.textContent = `${percentDone}% done`;\n",
              "\n",
              "    } while (position < fileData.byteLength);\n",
              "  }\n",
              "\n",
              "  // All done.\n",
              "  yield {\n",
              "    response: {\n",
              "      action: 'complete',\n",
              "    }\n",
              "  };\n",
              "}\n",
              "\n",
              "scope.google = scope.google || {};\n",
              "scope.google.colab = scope.google.colab || {};\n",
              "scope.google.colab._files = {\n",
              "  _uploadFiles,\n",
              "  _uploadFilesContinue,\n",
              "};\n",
              "})(self);\n",
              "</script> "
            ]
          },
          "metadata": {}
        },
        {
          "output_type": "stream",
          "name": "stdout",
          "text": [
            "Saving virus_data.csv to virus_data.csv\n"
          ]
        }
      ]
    },
    {
      "cell_type": "code",
      "metadata": {
        "id": "sVCPiqj_L8ch"
      },
      "source": [
        "dataset = pd.read_csv(filename)"
      ],
      "execution_count": 3,
      "outputs": []
    },
    {
      "cell_type": "code",
      "metadata": {
        "id": "bVmBUgUWMH0I",
        "colab": {
          "base_uri": "https://localhost:8080/"
        },
        "outputId": "16045426-fa03-4a57-ee31-fac70624001a"
      },
      "source": [
        "# Q1 getting the datas #rows and #cols\n",
        "dataset.shape"
      ],
      "execution_count": 10,
      "outputs": [
        {
          "output_type": "execute_result",
          "data": {
            "text/plain": [
              "(1250, 25)"
            ]
          },
          "metadata": {},
          "execution_count": 10
        }
      ]
    },
    {
      "cell_type": "code",
      "source": [
        "# Q2 inspecting conversations_per_day field\n",
        "dataset.conversations_per_day.value_counts()"
      ],
      "metadata": {
        "colab": {
          "base_uri": "https://localhost:8080/"
        },
        "id": "hJDu0Qj9fRSB",
        "outputId": "0284adb3-5376-4b4a-c9ce-01202a21db24"
      },
      "execution_count": 26,
      "outputs": [
        {
          "output_type": "execute_result",
          "data": {
            "text/plain": [
              "conversations_per_day\n",
              "3     218\n",
              "2     204\n",
              "5     179\n",
              "4     168\n",
              "1     108\n",
              "6     107\n",
              "7      94\n",
              "8      54\n",
              "9      42\n",
              "10     29\n",
              "11     16\n",
              "13      8\n",
              "12      7\n",
              "14      6\n",
              "16      5\n",
              "15      3\n",
              "17      1\n",
              "29      1\n",
              "Name: count, dtype: int64"
            ]
          },
          "metadata": {},
          "execution_count": 26
        }
      ]
    },
    {
      "cell_type": "code",
      "source": [
        "# Q3 inspecting the features of the data\n",
        "print(dataset.columns)\n",
        "print(dataset.PCR_10.value_counts())\n",
        "dataset.head()"
      ],
      "metadata": {
        "colab": {
          "base_uri": "https://localhost:8080/",
          "height": 672
        },
        "id": "tC5ucHLwnaAN",
        "outputId": "fb03698d-a6e6-46ed-e955-51fd44fd405f"
      },
      "execution_count": 55,
      "outputs": [
        {
          "output_type": "stream",
          "name": "stdout",
          "text": [
            "Index(['patient_id', 'age', 'sex', 'weight', 'blood_type', 'current_location',\n",
            "       'num_of_siblings', 'happiness_score', 'household_income',\n",
            "       'conversations_per_day', 'sugar_levels', 'sport_activity', 'pcr_date',\n",
            "       'PCR_01', 'PCR_02', 'PCR_03', 'PCR_04', 'PCR_05', 'PCR_06', 'PCR_07',\n",
            "       'PCR_08', 'PCR_09', 'PCR_10', 'spread', 'risk'],\n",
            "      dtype='object')\n",
            "PCR_10\n",
            "-126.780598    1\n",
            "-154.771775    1\n",
            " 17.042635     1\n",
            "-183.836107    1\n",
            "-71.704747     1\n",
            "              ..\n",
            "-112.111519    1\n",
            " 183.994231    1\n",
            " 170.907313    1\n",
            "-118.483405    1\n",
            "-53.083826     1\n",
            "Name: count, Length: 1250, dtype: int64\n"
          ]
        },
        {
          "output_type": "execute_result",
          "data": {
            "text/plain": [
              "   patient_id  age sex  weight blood_type          current_location  \\\n",
              "0         733   31   F    80.8         O-  ('11.93381', '79.82979')   \n",
              "1         382   29   F    63.0         O+   ('51.67822', '33.9162')   \n",
              "2        1164   44   F    74.2         O+  ('60.02427', '30.28491')   \n",
              "3         897    9   M    31.8         O-   ('51.08468', '7.11393')   \n",
              "4        1187   18   F    42.4         A-  ('38.45598', '48.87498')   \n",
              "\n",
              "   num_of_siblings  happiness_score  household_income  conversations_per_day  \\\n",
              "0                6                6               0.7                      5   \n",
              "1                1                9               NaN                     11   \n",
              "2                2               10               1.5                      3   \n",
              "3                3                9               0.5                      8   \n",
              "4                0                8               0.2                      4   \n",
              "\n",
              "   ...      PCR_03      PCR_04    PCR_05     PCR_06    PCR_07     PCR_08  \\\n",
              "0  ... -154.375498  176.847024  4.385181  10.213329  0.927466  22.333871   \n",
              "1  ... -200.700948   -7.135415  7.128887  30.027329 -0.084755   1.700489   \n",
              "2  ...  127.222441   59.712513  1.227654  16.907687  1.609130   7.258721   \n",
              "3  ...  116.178667   72.100204  6.181840  17.018475  2.313162   1.707770   \n",
              "4  ...   71.377753  187.436001  4.709932  13.888960  5.401181   4.500906   \n",
              "\n",
              "     PCR_09      PCR_10  spread  risk  \n",
              "0  2.392578 -126.780598     1.0     1  \n",
              "1  2.735347 -175.576828    -1.0    -1  \n",
              "2  4.937827 -233.105192    -1.0    -1  \n",
              "3  1.686465  -28.548362    -1.0    -1  \n",
              "4  3.767817  -27.173870    -1.0    -1  \n",
              "\n",
              "[5 rows x 25 columns]"
            ],
            "text/html": [
              "\n",
              "  <div id=\"df-41911cfd-e185-430e-ac00-bd7f53683229\" class=\"colab-df-container\">\n",
              "    <div>\n",
              "<style scoped>\n",
              "    .dataframe tbody tr th:only-of-type {\n",
              "        vertical-align: middle;\n",
              "    }\n",
              "\n",
              "    .dataframe tbody tr th {\n",
              "        vertical-align: top;\n",
              "    }\n",
              "\n",
              "    .dataframe thead th {\n",
              "        text-align: right;\n",
              "    }\n",
              "</style>\n",
              "<table border=\"1\" class=\"dataframe\">\n",
              "  <thead>\n",
              "    <tr style=\"text-align: right;\">\n",
              "      <th></th>\n",
              "      <th>patient_id</th>\n",
              "      <th>age</th>\n",
              "      <th>sex</th>\n",
              "      <th>weight</th>\n",
              "      <th>blood_type</th>\n",
              "      <th>current_location</th>\n",
              "      <th>num_of_siblings</th>\n",
              "      <th>happiness_score</th>\n",
              "      <th>household_income</th>\n",
              "      <th>conversations_per_day</th>\n",
              "      <th>...</th>\n",
              "      <th>PCR_03</th>\n",
              "      <th>PCR_04</th>\n",
              "      <th>PCR_05</th>\n",
              "      <th>PCR_06</th>\n",
              "      <th>PCR_07</th>\n",
              "      <th>PCR_08</th>\n",
              "      <th>PCR_09</th>\n",
              "      <th>PCR_10</th>\n",
              "      <th>spread</th>\n",
              "      <th>risk</th>\n",
              "    </tr>\n",
              "  </thead>\n",
              "  <tbody>\n",
              "    <tr>\n",
              "      <th>0</th>\n",
              "      <td>733</td>\n",
              "      <td>31</td>\n",
              "      <td>F</td>\n",
              "      <td>80.8</td>\n",
              "      <td>O-</td>\n",
              "      <td>('11.93381', '79.82979')</td>\n",
              "      <td>6</td>\n",
              "      <td>6</td>\n",
              "      <td>0.7</td>\n",
              "      <td>5</td>\n",
              "      <td>...</td>\n",
              "      <td>-154.375498</td>\n",
              "      <td>176.847024</td>\n",
              "      <td>4.385181</td>\n",
              "      <td>10.213329</td>\n",
              "      <td>0.927466</td>\n",
              "      <td>22.333871</td>\n",
              "      <td>2.392578</td>\n",
              "      <td>-126.780598</td>\n",
              "      <td>1.0</td>\n",
              "      <td>1</td>\n",
              "    </tr>\n",
              "    <tr>\n",
              "      <th>1</th>\n",
              "      <td>382</td>\n",
              "      <td>29</td>\n",
              "      <td>F</td>\n",
              "      <td>63.0</td>\n",
              "      <td>O+</td>\n",
              "      <td>('51.67822', '33.9162')</td>\n",
              "      <td>1</td>\n",
              "      <td>9</td>\n",
              "      <td>NaN</td>\n",
              "      <td>11</td>\n",
              "      <td>...</td>\n",
              "      <td>-200.700948</td>\n",
              "      <td>-7.135415</td>\n",
              "      <td>7.128887</td>\n",
              "      <td>30.027329</td>\n",
              "      <td>-0.084755</td>\n",
              "      <td>1.700489</td>\n",
              "      <td>2.735347</td>\n",
              "      <td>-175.576828</td>\n",
              "      <td>-1.0</td>\n",
              "      <td>-1</td>\n",
              "    </tr>\n",
              "    <tr>\n",
              "      <th>2</th>\n",
              "      <td>1164</td>\n",
              "      <td>44</td>\n",
              "      <td>F</td>\n",
              "      <td>74.2</td>\n",
              "      <td>O+</td>\n",
              "      <td>('60.02427', '30.28491')</td>\n",
              "      <td>2</td>\n",
              "      <td>10</td>\n",
              "      <td>1.5</td>\n",
              "      <td>3</td>\n",
              "      <td>...</td>\n",
              "      <td>127.222441</td>\n",
              "      <td>59.712513</td>\n",
              "      <td>1.227654</td>\n",
              "      <td>16.907687</td>\n",
              "      <td>1.609130</td>\n",
              "      <td>7.258721</td>\n",
              "      <td>4.937827</td>\n",
              "      <td>-233.105192</td>\n",
              "      <td>-1.0</td>\n",
              "      <td>-1</td>\n",
              "    </tr>\n",
              "    <tr>\n",
              "      <th>3</th>\n",
              "      <td>897</td>\n",
              "      <td>9</td>\n",
              "      <td>M</td>\n",
              "      <td>31.8</td>\n",
              "      <td>O-</td>\n",
              "      <td>('51.08468', '7.11393')</td>\n",
              "      <td>3</td>\n",
              "      <td>9</td>\n",
              "      <td>0.5</td>\n",
              "      <td>8</td>\n",
              "      <td>...</td>\n",
              "      <td>116.178667</td>\n",
              "      <td>72.100204</td>\n",
              "      <td>6.181840</td>\n",
              "      <td>17.018475</td>\n",
              "      <td>2.313162</td>\n",
              "      <td>1.707770</td>\n",
              "      <td>1.686465</td>\n",
              "      <td>-28.548362</td>\n",
              "      <td>-1.0</td>\n",
              "      <td>-1</td>\n",
              "    </tr>\n",
              "    <tr>\n",
              "      <th>4</th>\n",
              "      <td>1187</td>\n",
              "      <td>18</td>\n",
              "      <td>F</td>\n",
              "      <td>42.4</td>\n",
              "      <td>A-</td>\n",
              "      <td>('38.45598', '48.87498')</td>\n",
              "      <td>0</td>\n",
              "      <td>8</td>\n",
              "      <td>0.2</td>\n",
              "      <td>4</td>\n",
              "      <td>...</td>\n",
              "      <td>71.377753</td>\n",
              "      <td>187.436001</td>\n",
              "      <td>4.709932</td>\n",
              "      <td>13.888960</td>\n",
              "      <td>5.401181</td>\n",
              "      <td>4.500906</td>\n",
              "      <td>3.767817</td>\n",
              "      <td>-27.173870</td>\n",
              "      <td>-1.0</td>\n",
              "      <td>-1</td>\n",
              "    </tr>\n",
              "  </tbody>\n",
              "</table>\n",
              "<p>5 rows × 25 columns</p>\n",
              "</div>\n",
              "    <div class=\"colab-df-buttons\">\n",
              "\n",
              "  <div class=\"colab-df-container\">\n",
              "    <button class=\"colab-df-convert\" onclick=\"convertToInteractive('df-41911cfd-e185-430e-ac00-bd7f53683229')\"\n",
              "            title=\"Convert this dataframe to an interactive table.\"\n",
              "            style=\"display:none;\">\n",
              "\n",
              "  <svg xmlns=\"http://www.w3.org/2000/svg\" height=\"24px\" viewBox=\"0 -960 960 960\">\n",
              "    <path d=\"M120-120v-720h720v720H120Zm60-500h600v-160H180v160Zm220 220h160v-160H400v160Zm0 220h160v-160H400v160ZM180-400h160v-160H180v160Zm440 0h160v-160H620v160ZM180-180h160v-160H180v160Zm440 0h160v-160H620v160Z\"/>\n",
              "  </svg>\n",
              "    </button>\n",
              "\n",
              "  <style>\n",
              "    .colab-df-container {\n",
              "      display:flex;\n",
              "      gap: 12px;\n",
              "    }\n",
              "\n",
              "    .colab-df-convert {\n",
              "      background-color: #E8F0FE;\n",
              "      border: none;\n",
              "      border-radius: 50%;\n",
              "      cursor: pointer;\n",
              "      display: none;\n",
              "      fill: #1967D2;\n",
              "      height: 32px;\n",
              "      padding: 0 0 0 0;\n",
              "      width: 32px;\n",
              "    }\n",
              "\n",
              "    .colab-df-convert:hover {\n",
              "      background-color: #E2EBFA;\n",
              "      box-shadow: 0px 1px 2px rgba(60, 64, 67, 0.3), 0px 1px 3px 1px rgba(60, 64, 67, 0.15);\n",
              "      fill: #174EA6;\n",
              "    }\n",
              "\n",
              "    .colab-df-buttons div {\n",
              "      margin-bottom: 4px;\n",
              "    }\n",
              "\n",
              "    [theme=dark] .colab-df-convert {\n",
              "      background-color: #3B4455;\n",
              "      fill: #D2E3FC;\n",
              "    }\n",
              "\n",
              "    [theme=dark] .colab-df-convert:hover {\n",
              "      background-color: #434B5C;\n",
              "      box-shadow: 0px 1px 3px 1px rgba(0, 0, 0, 0.15);\n",
              "      filter: drop-shadow(0px 1px 2px rgba(0, 0, 0, 0.3));\n",
              "      fill: #FFFFFF;\n",
              "    }\n",
              "  </style>\n",
              "\n",
              "    <script>\n",
              "      const buttonEl =\n",
              "        document.querySelector('#df-41911cfd-e185-430e-ac00-bd7f53683229 button.colab-df-convert');\n",
              "      buttonEl.style.display =\n",
              "        google.colab.kernel.accessAllowed ? 'block' : 'none';\n",
              "\n",
              "      async function convertToInteractive(key) {\n",
              "        const element = document.querySelector('#df-41911cfd-e185-430e-ac00-bd7f53683229');\n",
              "        const dataTable =\n",
              "          await google.colab.kernel.invokeFunction('convertToInteractive',\n",
              "                                                    [key], {});\n",
              "        if (!dataTable) return;\n",
              "\n",
              "        const docLinkHtml = 'Like what you see? Visit the ' +\n",
              "          '<a target=\"_blank\" href=https://colab.research.google.com/notebooks/data_table.ipynb>data table notebook</a>'\n",
              "          + ' to learn more about interactive tables.';\n",
              "        element.innerHTML = '';\n",
              "        dataTable['output_type'] = 'display_data';\n",
              "        await google.colab.output.renderOutput(dataTable, element);\n",
              "        const docLink = document.createElement('div');\n",
              "        docLink.innerHTML = docLinkHtml;\n",
              "        element.appendChild(docLink);\n",
              "      }\n",
              "    </script>\n",
              "  </div>\n",
              "\n",
              "\n",
              "<div id=\"df-c32723fe-b8ea-4490-b053-7ac7e4e34a8f\">\n",
              "  <button class=\"colab-df-quickchart\" onclick=\"quickchart('df-c32723fe-b8ea-4490-b053-7ac7e4e34a8f')\"\n",
              "            title=\"Suggest charts\"\n",
              "            style=\"display:none;\">\n",
              "\n",
              "<svg xmlns=\"http://www.w3.org/2000/svg\" height=\"24px\"viewBox=\"0 0 24 24\"\n",
              "     width=\"24px\">\n",
              "    <g>\n",
              "        <path d=\"M19 3H5c-1.1 0-2 .9-2 2v14c0 1.1.9 2 2 2h14c1.1 0 2-.9 2-2V5c0-1.1-.9-2-2-2zM9 17H7v-7h2v7zm4 0h-2V7h2v10zm4 0h-2v-4h2v4z\"/>\n",
              "    </g>\n",
              "</svg>\n",
              "  </button>\n",
              "\n",
              "<style>\n",
              "  .colab-df-quickchart {\n",
              "      --bg-color: #E8F0FE;\n",
              "      --fill-color: #1967D2;\n",
              "      --hover-bg-color: #E2EBFA;\n",
              "      --hover-fill-color: #174EA6;\n",
              "      --disabled-fill-color: #AAA;\n",
              "      --disabled-bg-color: #DDD;\n",
              "  }\n",
              "\n",
              "  [theme=dark] .colab-df-quickchart {\n",
              "      --bg-color: #3B4455;\n",
              "      --fill-color: #D2E3FC;\n",
              "      --hover-bg-color: #434B5C;\n",
              "      --hover-fill-color: #FFFFFF;\n",
              "      --disabled-bg-color: #3B4455;\n",
              "      --disabled-fill-color: #666;\n",
              "  }\n",
              "\n",
              "  .colab-df-quickchart {\n",
              "    background-color: var(--bg-color);\n",
              "    border: none;\n",
              "    border-radius: 50%;\n",
              "    cursor: pointer;\n",
              "    display: none;\n",
              "    fill: var(--fill-color);\n",
              "    height: 32px;\n",
              "    padding: 0;\n",
              "    width: 32px;\n",
              "  }\n",
              "\n",
              "  .colab-df-quickchart:hover {\n",
              "    background-color: var(--hover-bg-color);\n",
              "    box-shadow: 0 1px 2px rgba(60, 64, 67, 0.3), 0 1px 3px 1px rgba(60, 64, 67, 0.15);\n",
              "    fill: var(--button-hover-fill-color);\n",
              "  }\n",
              "\n",
              "  .colab-df-quickchart-complete:disabled,\n",
              "  .colab-df-quickchart-complete:disabled:hover {\n",
              "    background-color: var(--disabled-bg-color);\n",
              "    fill: var(--disabled-fill-color);\n",
              "    box-shadow: none;\n",
              "  }\n",
              "\n",
              "  .colab-df-spinner {\n",
              "    border: 2px solid var(--fill-color);\n",
              "    border-color: transparent;\n",
              "    border-bottom-color: var(--fill-color);\n",
              "    animation:\n",
              "      spin 1s steps(1) infinite;\n",
              "  }\n",
              "\n",
              "  @keyframes spin {\n",
              "    0% {\n",
              "      border-color: transparent;\n",
              "      border-bottom-color: var(--fill-color);\n",
              "      border-left-color: var(--fill-color);\n",
              "    }\n",
              "    20% {\n",
              "      border-color: transparent;\n",
              "      border-left-color: var(--fill-color);\n",
              "      border-top-color: var(--fill-color);\n",
              "    }\n",
              "    30% {\n",
              "      border-color: transparent;\n",
              "      border-left-color: var(--fill-color);\n",
              "      border-top-color: var(--fill-color);\n",
              "      border-right-color: var(--fill-color);\n",
              "    }\n",
              "    40% {\n",
              "      border-color: transparent;\n",
              "      border-right-color: var(--fill-color);\n",
              "      border-top-color: var(--fill-color);\n",
              "    }\n",
              "    60% {\n",
              "      border-color: transparent;\n",
              "      border-right-color: var(--fill-color);\n",
              "    }\n",
              "    80% {\n",
              "      border-color: transparent;\n",
              "      border-right-color: var(--fill-color);\n",
              "      border-bottom-color: var(--fill-color);\n",
              "    }\n",
              "    90% {\n",
              "      border-color: transparent;\n",
              "      border-bottom-color: var(--fill-color);\n",
              "    }\n",
              "  }\n",
              "</style>\n",
              "\n",
              "  <script>\n",
              "    async function quickchart(key) {\n",
              "      const quickchartButtonEl =\n",
              "        document.querySelector('#' + key + ' button');\n",
              "      quickchartButtonEl.disabled = true;  // To prevent multiple clicks.\n",
              "      quickchartButtonEl.classList.add('colab-df-spinner');\n",
              "      try {\n",
              "        const charts = await google.colab.kernel.invokeFunction(\n",
              "            'suggestCharts', [key], {});\n",
              "      } catch (error) {\n",
              "        console.error('Error during call to suggestCharts:', error);\n",
              "      }\n",
              "      quickchartButtonEl.classList.remove('colab-df-spinner');\n",
              "      quickchartButtonEl.classList.add('colab-df-quickchart-complete');\n",
              "    }\n",
              "    (() => {\n",
              "      let quickchartButtonEl =\n",
              "        document.querySelector('#df-c32723fe-b8ea-4490-b053-7ac7e4e34a8f button');\n",
              "      quickchartButtonEl.style.display =\n",
              "        google.colab.kernel.accessAllowed ? 'block' : 'none';\n",
              "    })();\n",
              "  </script>\n",
              "</div>\n",
              "\n",
              "    </div>\n",
              "  </div>\n"
            ],
            "application/vnd.google.colaboratory.intrinsic+json": {
              "type": "dataframe",
              "variable_name": "dataset"
            }
          },
          "metadata": {},
          "execution_count": 55
        }
      ]
    },
    {
      "cell_type": "code",
      "source": [
        "# Q4 partitioning the data to train and test sets\n",
        "train_set, test_set = train_test_split(dataset, test_size=0.2, random_state=8)"
      ],
      "metadata": {
        "id": "De-VqQ_717Rq"
      },
      "execution_count": 34,
      "outputs": []
    },
    {
      "cell_type": "markdown",
      "source": [
        "## Part 2: Missing Values"
      ],
      "metadata": {
        "id": "AZ6H_MfJgTk6"
      }
    },
    {
      "cell_type": "code",
      "source": [
        "# Q5 looking for null values in the data\n",
        "print(\"training set null values: \\n\", pd.isnull(train_set).sum(),\"\\n\")\n",
        "print(\"test set null values: \\n\",pd.isnull(test_set).sum(), \"\\n\")"
      ],
      "metadata": {
        "colab": {
          "base_uri": "https://localhost:8080/"
        },
        "id": "by7LEXvB7gTJ",
        "outputId": "fa318688-0a91-461e-f8e6-a6ed1b3ecc41"
      },
      "execution_count": 59,
      "outputs": [
        {
          "output_type": "stream",
          "name": "stdout",
          "text": [
            "training set null values: \n",
            " patient_id                0\n",
            "age                       0\n",
            "sex                       0\n",
            "weight                    0\n",
            "blood_type                0\n",
            "current_location          0\n",
            "num_of_siblings           0\n",
            "happiness_score           0\n",
            "household_income         86\n",
            "conversations_per_day     0\n",
            "sugar_levels              0\n",
            "sport_activity            0\n",
            "pcr_date                  0\n",
            "PCR_01                    0\n",
            "PCR_02                    0\n",
            "PCR_03                    0\n",
            "PCR_04                    0\n",
            "PCR_05                    0\n",
            "PCR_06                    0\n",
            "PCR_07                    0\n",
            "PCR_08                    0\n",
            "PCR_09                    0\n",
            "PCR_10                    0\n",
            "spread                    0\n",
            "risk                      0\n",
            "dtype: int64 \n",
            "\n",
            "test set null values: \n",
            " patient_id                0\n",
            "age                       0\n",
            "sex                       0\n",
            "weight                    0\n",
            "blood_type                0\n",
            "current_location          0\n",
            "num_of_siblings           0\n",
            "happiness_score           0\n",
            "household_income         23\n",
            "conversations_per_day     0\n",
            "sugar_levels              0\n",
            "sport_activity            0\n",
            "pcr_date                  0\n",
            "PCR_01                    0\n",
            "PCR_02                    0\n",
            "PCR_03                    0\n",
            "PCR_04                    0\n",
            "PCR_05                    0\n",
            "PCR_06                    0\n",
            "PCR_07                    0\n",
            "PCR_08                    0\n",
            "PCR_09                    0\n",
            "PCR_10                    0\n",
            "spread                    0\n",
            "risk                      0\n",
            "dtype: int64 \n",
            "\n"
          ]
        }
      ]
    },
    {
      "cell_type": "code",
      "source": [
        "# Q6 checking the distribution of income values\n",
        "sns.histplot(train_set.household_income, kde=True)\n",
        "plt.grid()\n",
        "plt.title(r'Histogram of household income')"
      ],
      "metadata": {
        "colab": {
          "base_uri": "https://localhost:8080/",
          "height": 489
        },
        "id": "YR3Xiy0tH0oV",
        "outputId": "d1baba95-1dea-41a0-a857-6604e080da12"
      },
      "execution_count": 49,
      "outputs": [
        {
          "output_type": "execute_result",
          "data": {
            "text/plain": [
              "Text(0.5, 1.0, 'Histogram of household income')"
            ]
          },
          "metadata": {},
          "execution_count": 49
        },
        {
          "output_type": "display_data",
          "data": {
            "text/plain": [
              "<Figure size 640x480 with 1 Axes>"
            ],
            "image/png": "[encoded data removed]"
          },
          "metadata": {}
        }
      ]
    },
    {
      "cell_type": "code",
      "source": [
        "# Q7 inspecting household_income statistics for replacing null values\n",
        "print(\"mean is: \", train_set.household_income.mean())\n",
        "print(\"median is: \", train_set.household_income.median())"
      ],
      "metadata": {
        "colab": {
          "base_uri": "https://localhost:8080/"
        },
        "id": "-gI1WwZYbCf6",
        "outputId": "7c5eb5b8-2510-4a6d-d86c-e52a121412dc"
      },
      "execution_count": 52,
      "outputs": [
        {
          "output_type": "stream",
          "name": "stdout",
          "text": [
            "mean is:  3.8589715536105036\n",
            "median is:  0.7\n"
          ]
        }
      ]
    },
    {
      "cell_type": "code",
      "source": [
        "# Q7 - Task A - filling null values with median values\n",
        "filled_train_set = train_set.fillna({\"household_income\":train_set.household_income.median()})\n",
        "filled_test_set = test_set.fillna({\"household_income\":test_set.household_income.median()})\n",
        "print(\"mean is: \", filled_train_set.household_income.mean())\n",
        "print(\"median is: \", filled_train_set.household_income.median())"
      ],
      "metadata": {
        "colab": {
          "base_uri": "https://localhost:8080/"
        },
        "id": "9BG1b_j2eQjg",
        "outputId": "b6cec0ea-6596-47ed-a7b0-74bf244c2e16"
      },
      "execution_count": 53,
      "outputs": [
        {
          "output_type": "stream",
          "name": "stdout",
          "text": [
            "mean is:  3.5873000000000004\n",
            "median is:  0.7\n"
          ]
        }
      ]
    },
    {
      "cell_type": "markdown",
      "metadata": {
        "id": "_Mgm01NpMXJU"
      },
      "source": [
        "# How to download from Colab?"
      ]
    },
    {
      "cell_type": "code",
      "metadata": {
        "id": "pT3gmNOXjtE9"
      },
      "source": [
        "from google.colab import files\n",
        "outputPath = \"saved_file.csv\"\n",
        "dataset.to_csv(outputPath)\n",
        "files.download(outputPath)"
      ],
      "execution_count": null,
      "outputs": []
    },
    {
      "cell_type": "code",
      "metadata": {
        "id": "fULq3pXduRov"
      },
      "source": [],
      "execution_count": null,
      "outputs": []
    }
  ]
}